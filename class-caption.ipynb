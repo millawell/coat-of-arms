{
 "cells": [
  {
   "cell_type": "markdown",
   "id": "244e7788",
   "metadata": {},
   "source": [
    "## Caption Translator Class"
   ]
  },
  {
   "cell_type": "code",
   "execution_count": 21,
   "id": "0b65c78b",
   "metadata": {},
   "outputs": [],
   "source": [
    "from src.label_checker_automata import LabelCheckerAutomata\n",
    "from src.armoria_api import ArmoriaAPIPayload\n",
    "\n",
    "class Caption:\n",
    "\n",
    "    # (e.g. \"A lion rampant\")\n",
    "    def __init__(self, label): \n",
    "        self.label = label\n",
    "\n",
    "    # (e.g. “com\")\n",
    "    def get_automata_parsed(self, support_plural=False): \n",
    "        simple_automata = LabelCheckerAutomata(support_plural=support_plural)\n",
    "        return simple_automata.parse_label(label)\n",
    "\n",
    "    # ({“Colors”:[‘A’], “Object/Modifier”: [“lion rampant”]})\n",
    "    def get_aligned(self, support_plural=False):\n",
    "        simple_automata = LabelCheckerAutomata(support_plural=support_plural)\n",
    "        parsed_label = simple_automata.parse_label(self.label)\n",
    "        return simple_automata.align_parsed_label(self.label, parsed_label)\n",
    "\n",
    "    def get_armoria_payload_dict(self):\n",
    "        return ArmoriaAPIPayload(self.label.split()).get_armoria_payload()\n",
    "\n",
    "    def get_stuctured(self):\n",
    "        ch_list = list()\n",
    "        aligned = self.get_aligned()\n",
    "        sh_modifier = ''\n",
    "        ch_modifier = ''\n",
    "        \n",
    "#         try:\n",
    "#             sh_modifier = aligned['modifiers'][-1]\n",
    "#         except:\n",
    "#             print('no shield modifier')        \n",
    "        \n",
    "        for i in range(0, len(aligned['objects'])):\n",
    "            ch_modifier = ''\n",
    "            \n",
    "            try:\n",
    "                ch_modifier = aligned['modifiers'][i]\n",
    "            except:\n",
    "                print('no charge modifier')\n",
    "\n",
    "            ch_list.append({'charge': aligned['objects'][i],\n",
    "                            'color': aligned['colors'][i+1], \n",
    "                            'modifier': ch_modifier})\n",
    "        \n",
    "        coa = {\n",
    "           \"shield\": {\"color\": aligned['colors'][0], 'modifier': sh_modifier},\n",
    "           \"charges\": ch_list\n",
    "          }\n",
    "\n",
    "        return coa\n",
    "    \n",
    "    # (['A', 'lion rampant’])\n",
    "    def get_tokenized(self):\n",
    "        pass\n",
    "\n",
    "    #  [1,3,2,4,2]\n",
    "    def get_numericalized():\n",
    "        pass\n",
    "    "
   ]
  },
  {
   "cell_type": "code",
   "execution_count": 22,
   "id": "b1fc2020",
   "metadata": {},
   "outputs": [
    {
     "name": "stdout",
     "output_type": "stream",
     "text": [
      "{'colors': ['b', 'g'], 'objects': ['lion'], 'modifiers': ['passt'], 'numbers': [], 'positions': []}\n",
      "{'colors': ['b', 'g'], 'objects': ['lion', 'lion'], 'modifiers': [], 'numbers': [], 'positions': []}\n",
      "{'colors': ['b', 'a'], 'objects': ['lion'], 'modifiers': ['passt', 'guard'], 'numbers': [], 'positions': []}\n"
     ]
    }
   ],
   "source": [
    "\n",
    "l = 'b g lion passt'\n",
    "c = Caption(l).get_aligned() \n",
    "print(c)\n",
    "\n",
    "l = 'b g lion lion'\n",
    "c = Caption(l).get_aligned() \n",
    "print(c)\n",
    "\n",
    "l = 'b a lion passt guard'\n",
    "c = Caption(l).get_aligned() \n",
    "print(c)\n"
   ]
  },
  {
   "cell_type": "code",
   "execution_count": 23,
   "id": "41b3bdee",
   "metadata": {},
   "outputs": [
    {
     "name": "stdout",
     "output_type": "stream",
     "text": [
      "{'t1': 'azure', 'shield': 'heater', 'charges': [{'charge': 'lionRampant', 't': 'argent', 'p': 'e', 'size': '1.5'}]}\n"
     ]
    }
   ],
   "source": [
    "\n",
    "\n",
    "l = 'B A lion'\n",
    "c = Caption(l).get_armoria_payload_dict() \n",
    "print(c)\n"
   ]
  },
  {
   "cell_type": "code",
   "execution_count": 24,
   "id": "d34382f3",
   "metadata": {},
   "outputs": [
    {
     "name": "stdout",
     "output_type": "stream",
     "text": [
      "no charge modifier\n",
      "{'shield': {'color': 'B', 'modifier': ''}, 'charges': [{'charge': 'lion', 'color': 'A', 'modifier': ''}]}\n",
      "{'shield': {'color': 'b', 'modifier': ''}, 'charges': [{'charge': 'lion', 'color': 'a', 'modifier': 'passt'}]}\n",
      "no charge modifier\n",
      "no charge modifier\n",
      "{'shield': {'color': 'b', 'modifier': ''}, 'charges': [{'charge': 'lion', 'color': 'a', 'modifier': ''}, {'charge': 'lion', 'color': 'g', 'modifier': ''}]}\n"
     ]
    }
   ],
   "source": [
    "l = 'B A lion'\n",
    "c = Caption(l).get_stuctured() \n",
    "print(c)\n",
    "\n",
    "l = 'b a lion passt guard'\n",
    "c = Caption(l).get_stuctured() \n",
    "print(c)\n",
    "\n",
    "l = 'b a g lion lion'\n",
    "c = Caption(l).get_stuctured() \n",
    "print(c)"
   ]
  },
  {
   "cell_type": "code",
   "execution_count": null,
   "id": "39b6255a",
   "metadata": {},
   "outputs": [],
   "source": []
  }
 ],
 "metadata": {
  "kernelspec": {
   "display_name": "Python 3 (ipykernel)",
   "language": "python",
   "name": "python3"
  },
  "language_info": {
   "codemirror_mode": {
    "name": "ipython",
    "version": 3
   },
   "file_extension": ".py",
   "mimetype": "text/x-python",
   "name": "python",
   "nbconvert_exporter": "python",
   "pygments_lexer": "ipython3",
   "version": "3.8.10"
  }
 },
 "nbformat": 4,
 "nbformat_minor": 5
}
