{
 "cells": [
  {
   "cell_type": "code",
   "execution_count": 2,
   "id": "d5d40661",
   "metadata": {},
   "outputs": [],
   "source": []
  },
  {
   "cell_type": "code",
   "execution_count": null,
   "id": "0b65c78b",
   "metadata": {},
   "outputs": [],
   "source": [
    "from src.label_checker_automata import LabelCheckerAutomata\n",
    "from src.armoria_api import ArmoriaAPIPayload\n",
    "\n",
    "class Caption:\n",
    "\n",
    "    # (e.g. \"A lion rampant\")\n",
    "    def __init__(self, label): \n",
    "        self.label = label\n",
    "\n",
    "    # (e.g. “com\")\n",
    "    def get_automata_parsed(self, support_plural): \n",
    "        simple_automata = LabelCheckerAutomata(support_plural=support_plural)\n",
    "        return simple_automata.parse_label(label)\n",
    "\n",
    "    # ({“Colors”:[‘A’], “Object/Modifier”: [“lion rampant”]})\n",
    "    def get_aligned(self, support_plural):\n",
    "        simple_automata = LabelCheckerAutomata(support_plural=support_plural)\n",
    "        parsed_label = simple_automata.parse_label(label)\n",
    "        return simple_automata.align_parsed_label(parsed_label)\n",
    "\n",
    "    # (['A', 'lion rampant’])\n",
    "    def get_tokenized(self):\n",
    "        pass\n",
    "\n",
    "\n",
    "    def get_armoria_payload_dict(self):\n",
    "        return ArmoriaAPIPayload(self.label.split()).get_armoria_payload()\n",
    "\n",
    "\n",
    "    #  [1,3,2,4,2]\n",
    "    def get_numericalized():\n",
    "        pass\n",
    "    \n"
   ]
  }
 ],
 "metadata": {
  "kernelspec": {
   "display_name": "Python 3 (ipykernel)",
   "language": "python",
   "name": "python3"
  },
  "language_info": {
   "codemirror_mode": {
    "name": "ipython",
    "version": 3
   },
   "file_extension": ".py",
   "mimetype": "text/x-python",
   "name": "python",
   "nbconvert_exporter": "python",
   "pygments_lexer": "ipython3",
   "version": "3.8.10"
  }
 },
 "nbformat": 4,
 "nbformat_minor": 5
}
