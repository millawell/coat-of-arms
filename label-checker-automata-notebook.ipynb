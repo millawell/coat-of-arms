{
 "cells": [
  {
   "cell_type": "code",
   "execution_count": 1,
   "id": "664e06f4",
   "metadata": {},
   "outputs": [],
   "source": [
    "from src.dataset import Dataset\n",
    "from src.label_checker_automata import LabelCheckerAutomata\n",
    "import src.utils as utils"
   ]
  },
  {
   "cell_type": "markdown",
   "id": "b5126bbb",
   "metadata": {},
   "source": [
    "## Load data and all labels"
   ]
  },
  {
   "cell_type": "code",
   "execution_count": 2,
   "id": "91b43f42",
   "metadata": {},
   "outputs": [],
   "source": [
    "dataset = Dataset('dataset/2021-03-19_classification-labeling-results.json')\n",
    "all_labels = dataset.all_answers"
   ]
  },
  {
   "cell_type": "markdown",
   "id": "e3bd2295",
   "metadata": {},
   "source": [
    "## Check if the labels match our automata "
   ]
  },
  {
   "cell_type": "code",
   "execution_count": 3,
   "id": "6e8f0d3b",
   "metadata": {},
   "outputs": [
    {
     "name": "stdout",
     "output_type": "stream",
     "text": [
      "Total number of labels 3001\n",
      "Valid labels 671\n",
      "Invalid labels 2330\n"
     ]
    }
   ],
   "source": [
    "automata = LabelCheckerAutomata()\n",
    "validated_labels = automata.get_valid_labels(all_labels)\n",
    "\n",
    "total = len(all_labels)\n",
    "valid = sum(validated_labels.values())\n",
    "print('Total number of labels', total)\n",
    "print('Valid labels', valid)\n",
    "print('Invalid labels', total - valid)"
   ]
  },
  {
   "cell_type": "markdown",
   "id": "fe284737",
   "metadata": {},
   "source": [
    "# create simple automata"
   ]
  },
  {
   "cell_type": "code",
   "execution_count": 4,
   "id": "65043170",
   "metadata": {},
   "outputs": [
    {
     "name": "stdout",
     "output_type": "stream",
     "text": [
      "Total number of labels 3001\n",
      "Valid labels 424\n",
      "Invalid labels 2577\n"
     ]
    }
   ],
   "source": [
    "simple_automata = LabelCheckerAutomata(support_plural=False)\n",
    "validated_simple_labels = simple_automata.get_valid_labels(all_labels)\n",
    "    \n",
    "total = len(all_labels)\n",
    "valid = sum(validated_simple_labels.values())\n",
    "print('Total number of labels', total)\n",
    "print('Valid labels', valid)\n",
    "print('Invalid labels', total - valid)\n"
   ]
  },
  {
   "cell_type": "markdown",
   "id": "cc52c6bb",
   "metadata": {},
   "source": [
    "# get simple valid labels with lion"
   ]
  },
  {
   "cell_type": "code",
   "execution_count": 5,
   "id": "f12b04ff",
   "metadata": {},
   "outputs": [
    {
     "name": "stdout",
     "output_type": "stream",
     "text": [
      "80\n"
     ]
    },
    {
     "data": {
      "text/plain": [
       "['O GAA lion enthroned holding sword',\n",
       " 'O GO lion guard ch. cross',\n",
       " 'O S lion rampant',\n",
       " 'B AO lion cr., crusily',\n",
       " 'O G+ cross & canton {Ar lion Sa}',\n",
       " 'G OA lion holding axe',\n",
       " 'O G lion rampant',\n",
       " 'B A lion cr.',\n",
       " 'S AO lion cr., billety',\n",
       " 'A O lion holding arrow piercing its head',\n",
       " 'A G lion rampant',\n",
       " 'X G BA per fess & lion',\n",
       " 'S AO lion chained cr. & border',\n",
       " 'G BA chief ch. lion isst',\n",
       " 'A GO lion holding cup covered',\n",
       " 'A GO lion roundely',\n",
       " \"A G lion's head\",\n",
       " 'A GB lion acc. fess',\n",
       " 'A GO chief indented ch. lion passt guard',\n",
       " 'O SAG per pale lion  isst & eagle isst',\n",
       " 'A GV lion holding trunk',\n",
       " \"O B lion's head engorging annulet\",\n",
       " \"A GV lion and eagle's claw winged sn\",\n",
       " 'X BO AG per pale lozengy & lion',\n",
       " 'O G lion guard',\n",
       " 'A SG lion acc. fess',\n",
       " 'A SG fess acc. lion q.f. isst',\n",
       " 'S AA lion cr., trefly',\n",
       " 'S X AO lion hooded',\n",
       " 'A G lion q.f. cr.',\n",
       " 'S AG lion holding trunk',\n",
       " 'O X GB lion hooded',\n",
       " 'O S lion naissant',\n",
       " 'G AB chief ch. lion isst',\n",
       " 'X G OA per pale & lion passt guard',\n",
       " 'B OG roundel ch. lion passt',\n",
       " 'E -GO label semy of lions passt guard',\n",
       " 'S A lion q.f.',\n",
       " 'X S GA barruly & lion',\n",
       " 'O GZ lion & chief',\n",
       " 'B OO lion, semy of mullets',\n",
       " 'B O lion rampant',\n",
       " 'B AO lion naissant, flory',\n",
       " 'G A lion rampant',\n",
       " 'A G+ cross engrailed acc. escutch {Sa lion Ar} in chf dx',\n",
       " 'B GO lion & chief',\n",
       " 'O Z lion cr.',\n",
       " 'A S lion rampant',\n",
       " 'O B lion rampant',\n",
       " 'A GS fess acc. lion isst',\n",
       " 'X S AG barruly & lion collared',\n",
       " 'X G BO barruly & lion',\n",
       " 'G E lion cr.',\n",
       " 'B OAG semy of fleurs-de-lis acc. lion in chf dx & border',\n",
       " 'A B lion rampant',\n",
       " 'G O lion rampant',\n",
       " 'S A lion cr.',\n",
       " 'A S lion passt',\n",
       " 'O S lion cr.',\n",
       " 'G O lion passt guard',\n",
       " 'A GSO lion & border roundely',\n",
       " 'A SO lion gutty',\n",
       " 'O V lion passt',\n",
       " 'A G lion cr.',\n",
       " 'G A lion cr.',\n",
       " 'B A lion rampant',\n",
       " 'X G AB barruly & lion',\n",
       " 'O SX EG lion acc. bend compony',\n",
       " 'S AG lion acc. bend engrailed',\n",
       " 'O G lion cr.',\n",
       " 'O SA lion & border trefly',\n",
       " 'O GA chief ch. lion passt',\n",
       " 'S O lion rampant',\n",
       " 'X S OG barruly & lion',\n",
       " 'V O lion rampant',\n",
       " 'B G lion passt',\n",
       " 'B OG per fess crenely masoned acc. lion isst',\n",
       " 'A G lion q.f.',\n",
       " 'G A lion passt guard',\n",
       " 'S A lion rampant']"
      ]
     },
     "execution_count": 5,
     "metadata": {},
     "output_type": "execute_result"
    }
   ],
   "source": [
    "lion_labels = simple_automata.get_valid_labels_of(all_labels, 'lion')\n",
    "print(len(lion_labels))\n",
    "lion_labels"
   ]
  },
  {
   "cell_type": "code",
   "execution_count": null,
   "id": "b29e73e6",
   "metadata": {},
   "outputs": [],
   "source": [
    "# checking the Armoria API manually\n",
    "    \n",
    "LION_MODIFIERS_MAP = {\n",
    "    'lion passt': 'lionPassant',\n",
    "    'lion passt guard': 'lionPassantGuardant',\n",
    "    'lion rampant': 'lionRampant',\n",
    "    \"lion's head\": 'lionHeadCaboshed'\n",
    "}\n",
    "\n"
   ]
  },
  {
   "cell_type": "markdown",
   "id": "69ff0e50",
   "metadata": {},
   "source": [
    "# get simple valid labels with cross"
   ]
  },
  {
   "cell_type": "code",
   "execution_count": 6,
   "id": "d079f127",
   "metadata": {},
   "outputs": [
    {
     "name": "stdout",
     "output_type": "stream",
     "text": [
      "34\n"
     ]
    },
    {
     "data": {
      "text/plain": [
       "['B O cross potenty fitchy',\n",
       " 'O GO lion guard ch. cross',\n",
       " 'B OO cross & border',\n",
       " 'O G+ cross & canton {Ar lion Sa}',\n",
       " 'S O cross moline',\n",
       " 'G O cross patonce',\n",
       " 'V OE semy of crosslets & chief',\n",
       " 'B A cross',\n",
       " 'A G cross moline',\n",
       " 'G A cross',\n",
       " 'O G cross engrailed',\n",
       " 'A G cross patonce',\n",
       " 'S A cross moline',\n",
       " 'A X AG cross moline vairy',\n",
       " 'A SO cross fretty',\n",
       " 'B O cross',\n",
       " 'A G+ cross engrailed acc. escutch {Sa lion Ar} in chf dx',\n",
       " 'S O cross engrailed',\n",
       " 'O V cross moline',\n",
       " 'O V cross',\n",
       " 'A G cross',\n",
       " 'B AO escutcheon acc. orle of cross crosslets',\n",
       " 'G O cross moline',\n",
       " 'O SA cross fretty',\n",
       " 'G Z cross moline',\n",
       " 'A B cross',\n",
       " 'A G cross formy',\n",
       " 'O SBO cross & border flory',\n",
       " 'G E cross',\n",
       " 'A G cross engrailed',\n",
       " 'O S cross engrailed',\n",
       " 'O GA cross fretty',\n",
       " 'S A cross engrailed',\n",
       " 'O G cross']"
      ]
     },
     "execution_count": 6,
     "metadata": {},
     "output_type": "execute_result"
    }
   ],
   "source": [
    "cross_labels = simple_automata.get_valid_labels_of(all_labels, 'cross')\n",
    "print(len(cross_labels))\n",
    "cross_labels"
   ]
  },
  {
   "cell_type": "code",
   "execution_count": 7,
   "id": "2b8c922d",
   "metadata": {},
   "outputs": [],
   "source": [
    "# checking the Armoria API manually\n",
    "    \n",
    "CROSS_MODIFIERS_MAP = {\n",
    "    'cross': 'crossHummetty' ,\n",
    "    'cross moline': 'crossMoline',\n",
    "    'cross patonce': 'crossPatonce',\n",
    "}\n",
    "\n"
   ]
  },
  {
   "cell_type": "code",
   "execution_count": null,
   "id": "b2e06cc8",
   "metadata": {},
   "outputs": [],
   "source": []
  }
 ],
 "metadata": {
  "kernelspec": {
   "display_name": "Python 3",
   "language": "python",
   "name": "python3"
  },
  "language_info": {
   "codemirror_mode": {
    "name": "ipython",
    "version": 3
   },
   "file_extension": ".py",
   "mimetype": "text/x-python",
   "name": "python",
   "nbconvert_exporter": "python",
   "pygments_lexer": "ipython3",
   "version": "3.8.11"
  }
 },
 "nbformat": 4,
 "nbformat_minor": 5
}
