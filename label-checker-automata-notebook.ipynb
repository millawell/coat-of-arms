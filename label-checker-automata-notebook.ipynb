{
 "cells": [
  {
   "cell_type": "code",
   "execution_count": 1,
   "id": "664e06f4",
   "metadata": {},
   "outputs": [],
   "source": [
    "from src.dataset import Dataset\n",
    "from src.label_checker_automata import LabelCheckerAutomata\n",
    "import src.utils as utils"
   ]
  },
  {
   "cell_type": "markdown",
   "id": "b5126bbb",
   "metadata": {},
   "source": [
    "## Load data and all labels"
   ]
  },
  {
   "cell_type": "code",
   "execution_count": 2,
   "id": "91b43f42",
   "metadata": {},
   "outputs": [],
   "source": [
    "dataset = Dataset('dataset/2021-03-19_classification-labeling-results.json')\n",
    "all_labels = dataset.all_answers"
   ]
  },
  {
   "cell_type": "markdown",
   "id": "e3bd2295",
   "metadata": {},
   "source": [
    "## Check if the labels match our automata "
   ]
  },
  {
   "cell_type": "code",
   "execution_count": 3,
   "id": "6e8f0d3b",
   "metadata": {},
   "outputs": [],
   "source": [
    "automata = LabelCheckerAutomata()\n",
    "validated_labels = {}\n",
    "for label in all_labels:\n",
    "    validated_labels[label] = automata.is_valid(label)\n"
   ]
  },
  {
   "cell_type": "markdown",
   "id": "509b8164",
   "metadata": {},
   "source": [
    "## Show results"
   ]
  },
  {
   "cell_type": "code",
   "execution_count": 4,
   "id": "320e3186",
   "metadata": {},
   "outputs": [
    {
     "name": "stdout",
     "output_type": "stream",
     "text": [
      "Total number of labels 3001\n",
      "Valid labels 476\n",
      "Invalid labels 2525\n"
     ]
    }
   ],
   "source": [
    "total = len(all_labels)\n",
    "valid =  sum(validated_labels.values())\n",
    "print('Total number of labels', total)\n",
    "print('Valid labels', valid)\n",
    "print('Invalid labels', total - valid)"
   ]
  },
  {
   "cell_type": "code",
   "execution_count": null,
   "id": "65043170",
   "metadata": {},
   "outputs": [],
   "source": []
  },
  {
   "cell_type": "code",
   "execution_count": null,
   "id": "f12b04ff",
   "metadata": {},
   "outputs": [],
   "source": []
  },
  {
   "cell_type": "code",
   "execution_count": null,
   "id": "d079f127",
   "metadata": {},
   "outputs": [],
   "source": []
  }
 ],
 "metadata": {
  "kernelspec": {
   "display_name": "Python 3",
   "language": "python",
   "name": "python3"
  },
  "language_info": {
   "codemirror_mode": {
    "name": "ipython",
    "version": 3
   },
   "file_extension": ".py",
   "mimetype": "text/x-python",
   "name": "python",
   "nbconvert_exporter": "python",
   "pygments_lexer": "ipython3",
   "version": "3.8.11"
  }
 },
 "nbformat": 4,
 "nbformat_minor": 5
}
