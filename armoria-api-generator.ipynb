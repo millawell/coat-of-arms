{
 "cells": [
  {
   "cell_type": "markdown",
   "id": "f587f69e",
   "metadata": {},
   "source": [
    "# Armoria API"
   ]
  },
  {
   "cell_type": "code",
   "execution_count": 26,
   "id": "ca1c1f9c",
   "metadata": {},
   "outputs": [],
   "source": [
    "import requests\n",
    "import json\n",
    "from PIL import Image\n",
    "from io import BytesIO\n",
    "\n",
    "class ArmoriaAPIWrapper:\n",
    "    def __init__(self, size, format, coa):\n",
    "        self.format = format\n",
    "        payload = {\"size\": size, \n",
    "                   \"format\": format,\n",
    "                   \"coa\": json.dumps(coa)\n",
    "                  }\n",
    "        self.r = requests.get('https://armoria.herokuapp.com/', params=payload)\n",
    "#         print(self.r.url)\n",
    "    \n",
    "    def get_image_bytes(self):\n",
    "        i = Image.open(BytesIO(self.r.content))\n",
    "        return i\n",
    "    \n",
    "    def show_image(self):\n",
    "        i = self.get_image_bytes()\n",
    "        i.show()\n",
    "    \n",
    "    def save_image(self, full_path):\n",
    "        i = self.get_image_bytes()    \n",
    "        i.save(full_path, 'png')\n",
    "\n"
   ]
  },
  {
   "cell_type": "code",
   "execution_count": 17,
   "id": "0dcbfdba",
   "metadata": {},
   "outputs": [
    {
     "name": "stdout",
     "output_type": "stream",
     "text": [
      "https://armoria.herokuapp.com/?size=500&format=png&coa=%7B%22t1%22%3A+%22or%22%2C+%22shield%22%3A+%22heater%22%2C+%22charges%22%3A+%5B%7B%22charge%22%3A+%22lionRampant%22%2C+%22t%22%3A+%22gules%22%2C+%22p%22%3A+%22e%22%2C+%22size%22%3A+1.5%7D%5D%7D\n",
      "https://armoria.herokuapp.com/?size=500&format=png&coa=%7B%22t1%22%3A+%22argent%22%2C+%22shield%22%3A+%22heater%22%2C+%22charges%22%3A+%5B%7B%22charge%22%3A+%22crossMoline%22%2C+%22t%22%3A+%22azure%22%2C+%22p%22%3A+%22e%22%2C+%22size%22%3A+1.5%7D%5D%7D\n"
     ]
    }
   ],
   "source": [
    "coa_lion = {\"t1\":\"or\",\n",
    "       \"shield\":\"heater\",\n",
    "       \"charges\":[{\"charge\":\"lionRampant\",\n",
    "                   \"t\":\"gules\",\n",
    "                   \"p\":\"e\",\n",
    "                   \"size\":1.5}]\n",
    "      }\n",
    "\n",
    "api = ArmoriaAPIWrapper(size = 500,format=\"png\", coa=coa_lion)\n",
    "api.show_image()\n",
    "\n",
    "coa_cross = {\"t1\":\"argent\",\n",
    "       \"shield\":\"heater\",\n",
    "       \"charges\":[{\"charge\":\"crossMoline\",\n",
    "                   \"t\":\"azure\",\n",
    "                   \"p\":\"e\",\n",
    "                   \"size\":1.5}]\n",
    "      }\n",
    "\n",
    "api = ArmoriaAPIWrapper(size = 500,format=\"png\", coa=coa_cross)\n",
    "api.show_image()\n"
   ]
  },
  {
   "cell_type": "markdown",
   "id": "0026636d",
   "metadata": {},
   "source": [
    "# Map our dataset to the API keywords"
   ]
  },
  {
   "cell_type": "code",
   "execution_count": 23,
   "id": "1e5dee73",
   "metadata": {},
   "outputs": [],
   "source": [
    "LION_MODIFIERS_MAP = {\n",
    "    'lion rampant': 'lionRampant',\n",
    "    'lion passt': 'lionPassant',\n",
    "    'lion passt guard': 'lionPassantGuardant',\n",
    "    \"lion's head\": 'lionHeadCaboshed'\n",
    "}\n",
    "\n",
    "CROSS_MODIFIERS_MAP = {\n",
    "    'cross': 'crossHummetty' ,\n",
    "    'cross moline': 'crossMoline',\n",
    "    'cross patonce': 'crossPatonce',\n",
    "}\n",
    "\n",
    "\n",
    "MODIFIERS_MAP = {**LION_MODIFIERS_MAP, **CROSS_MODIFIERS_MAP} \n",
    "\n",
    "COLORS_MAP = { 'A': 'argent', # silver\n",
    "              'B': 'azure', # blue\n",
    "              'O': 'or', # gold \n",
    "              'S': 'sable', # black\n",
    "              'G': 'gules', # red\n",
    "              'V': 'vert' # green\n",
    "             }\n",
    "#               'E':'',\n",
    "#               'X': '', \n",
    "#               'Z': ''}\n",
    "\n"
   ]
  },
  {
   "cell_type": "markdown",
   "id": "7843961c",
   "metadata": {},
   "source": [
    "# Generate Permutations"
   ]
  },
  {
   "cell_type": "code",
   "execution_count": 24,
   "id": "19549359",
   "metadata": {},
   "outputs": [
    {
     "name": "stdout",
     "output_type": "stream",
     "text": [
      "Total number of permutations: 42\n"
     ]
    },
    {
     "data": {
      "text/plain": [
       "[('A', 'lion rampant'),\n",
       " ('A', 'lion passt'),\n",
       " ('A', 'lion passt guard'),\n",
       " ('A', \"lion's head\"),\n",
       " ('B', 'lion rampant'),\n",
       " ('B', 'lion passt'),\n",
       " ('B', 'lion passt guard'),\n",
       " ('B', \"lion's head\"),\n",
       " ('O', 'lion rampant'),\n",
       " ('O', 'lion passt'),\n",
       " ('O', 'lion passt guard'),\n",
       " ('O', \"lion's head\"),\n",
       " ('S', 'lion rampant'),\n",
       " ('S', 'lion passt'),\n",
       " ('S', 'lion passt guard'),\n",
       " ('S', \"lion's head\"),\n",
       " ('G', 'lion rampant'),\n",
       " ('G', 'lion passt'),\n",
       " ('G', 'lion passt guard'),\n",
       " ('G', \"lion's head\"),\n",
       " ('V', 'lion rampant'),\n",
       " ('V', 'lion passt'),\n",
       " ('V', 'lion passt guard'),\n",
       " ('V', \"lion's head\"),\n",
       " ('A', 'cross'),\n",
       " ('A', 'cross moline'),\n",
       " ('A', 'cross patonce'),\n",
       " ('B', 'cross'),\n",
       " ('B', 'cross moline'),\n",
       " ('B', 'cross patonce'),\n",
       " ('O', 'cross'),\n",
       " ('O', 'cross moline'),\n",
       " ('O', 'cross patonce'),\n",
       " ('S', 'cross'),\n",
       " ('S', 'cross moline'),\n",
       " ('S', 'cross patonce'),\n",
       " ('G', 'cross'),\n",
       " ('G', 'cross moline'),\n",
       " ('G', 'cross patonce'),\n",
       " ('V', 'cross'),\n",
       " ('V', 'cross moline'),\n",
       " ('V', 'cross patonce')]"
      ]
     },
     "execution_count": 24,
     "metadata": {},
     "output_type": "execute_result"
    }
   ],
   "source": [
    "import itertools\n",
    "import src.alphabet as alphabet\n",
    "\n",
    "all_possible_permutations = []\n",
    "\n",
    "# lion, modifiers and colors\n",
    "permutations1 = list(dict.fromkeys(itertools.product( list(COLORS_MAP.keys()), list( LION_MODIFIERS_MAP.keys()))))\n",
    "\n",
    "# cross, modifiers and colors\n",
    "permutations2 = list(dict.fromkeys(itertools.product( list(COLORS_MAP.keys()), list( CROSS_MODIFIERS_MAP.keys()))))\n",
    "\n",
    "all_possible_permutations = permutations1 + permutations2\n",
    "\n",
    "print('Total number of permutations:', len(all_possible_permutations))\n",
    "all_possible_permutations"
   ]
  },
  {
   "cell_type": "code",
   "execution_count": 27,
   "id": "011e4c41",
   "metadata": {},
   "outputs": [
    {
     "name": "stdout",
     "output_type": "stream",
     "text": [
      "Image \"generated-data-api/image_1.png\" for label \"('A', 'lion rampant')\" has been generated succfully\n",
      "Image \"generated-data-api/image_2.png\" for label \"('A', 'lion passt')\" has been generated succfully\n",
      "Image \"generated-data-api/image_3.png\" for label \"('A', 'lion passt guard')\" has been generated succfully\n",
      "Image \"generated-data-api/image_4.png\" for label \"('A', \"lion's head\")\" has been generated succfully\n",
      "Image \"generated-data-api/image_5.png\" for label \"('B', 'lion rampant')\" has been generated succfully\n",
      "Image \"generated-data-api/image_6.png\" for label \"('B', 'lion passt')\" has been generated succfully\n",
      "Image \"generated-data-api/image_7.png\" for label \"('B', 'lion passt guard')\" has been generated succfully\n",
      "Image \"generated-data-api/image_8.png\" for label \"('B', \"lion's head\")\" has been generated succfully\n",
      "Image \"generated-data-api/image_9.png\" for label \"('O', 'lion rampant')\" has been generated succfully\n",
      "Image \"generated-data-api/image_10.png\" for label \"('O', 'lion passt')\" has been generated succfully\n",
      "Image \"generated-data-api/image_11.png\" for label \"('O', 'lion passt guard')\" has been generated succfully\n",
      "Image \"generated-data-api/image_12.png\" for label \"('O', \"lion's head\")\" has been generated succfully\n",
      "Image \"generated-data-api/image_13.png\" for label \"('S', 'lion rampant')\" has been generated succfully\n",
      "Image \"generated-data-api/image_14.png\" for label \"('S', 'lion passt')\" has been generated succfully\n",
      "Image \"generated-data-api/image_15.png\" for label \"('S', 'lion passt guard')\" has been generated succfully\n",
      "Image \"generated-data-api/image_16.png\" for label \"('S', \"lion's head\")\" has been generated succfully\n",
      "Image \"generated-data-api/image_17.png\" for label \"('G', 'lion rampant')\" has been generated succfully\n",
      "Image \"generated-data-api/image_18.png\" for label \"('G', 'lion passt')\" has been generated succfully\n",
      "Image \"generated-data-api/image_19.png\" for label \"('G', 'lion passt guard')\" has been generated succfully\n",
      "Image \"generated-data-api/image_20.png\" for label \"('G', \"lion's head\")\" has been generated succfully\n",
      "Image \"generated-data-api/image_21.png\" for label \"('V', 'lion rampant')\" has been generated succfully\n",
      "Image \"generated-data-api/image_22.png\" for label \"('V', 'lion passt')\" has been generated succfully\n",
      "Image \"generated-data-api/image_23.png\" for label \"('V', 'lion passt guard')\" has been generated succfully\n",
      "Image \"generated-data-api/image_24.png\" for label \"('V', \"lion's head\")\" has been generated succfully\n",
      "Image \"generated-data-api/image_25.png\" for label \"('A', 'cross')\" has been generated succfully\n",
      "Image \"generated-data-api/image_26.png\" for label \"('A', 'cross moline')\" has been generated succfully\n",
      "Image \"generated-data-api/image_27.png\" for label \"('A', 'cross patonce')\" has been generated succfully\n",
      "Image \"generated-data-api/image_28.png\" for label \"('B', 'cross')\" has been generated succfully\n",
      "Image \"generated-data-api/image_29.png\" for label \"('B', 'cross moline')\" has been generated succfully\n",
      "Image \"generated-data-api/image_30.png\" for label \"('B', 'cross patonce')\" has been generated succfully\n",
      "Image \"generated-data-api/image_31.png\" for label \"('O', 'cross')\" has been generated succfully\n",
      "Image \"generated-data-api/image_32.png\" for label \"('O', 'cross moline')\" has been generated succfully\n",
      "Image \"generated-data-api/image_33.png\" for label \"('O', 'cross patonce')\" has been generated succfully\n",
      "Image \"generated-data-api/image_34.png\" for label \"('S', 'cross')\" has been generated succfully\n",
      "Image \"generated-data-api/image_35.png\" for label \"('S', 'cross moline')\" has been generated succfully\n",
      "Image \"generated-data-api/image_36.png\" for label \"('S', 'cross patonce')\" has been generated succfully\n",
      "Image \"generated-data-api/image_37.png\" for label \"('G', 'cross')\" has been generated succfully\n",
      "Image \"generated-data-api/image_38.png\" for label \"('G', 'cross moline')\" has been generated succfully\n",
      "Image \"generated-data-api/image_39.png\" for label \"('G', 'cross patonce')\" has been generated succfully\n",
      "Image \"generated-data-api/image_40.png\" for label \"('V', 'cross')\" has been generated succfully\n",
      "Image \"generated-data-api/image_41.png\" for label \"('V', 'cross moline')\" has been generated succfully\n",
      "Image \"generated-data-api/image_42.png\" for label \"('V', 'cross patonce')\" has been generated succfully\n"
     ]
    }
   ],
   "source": [
    "def get_armoria_api_payload(label):\n",
    "    color = label[0]\n",
    "    charge = label[1]\n",
    "    api_color = COLORS_MAP[color]\n",
    "    api_charge = MODIFIERS_MAP[charge]\n",
    "\n",
    "    coa = {\"t1\":\"or\",\n",
    "       \"shield\":\"heater\",\n",
    "       \"charges\":[{\"charge\":api_charge,\n",
    "                   \"t\": api_color,\n",
    "                   \"p\":\"e\",\n",
    "                   \"size\":1.5}]\n",
    "      }\n",
    "\n",
    "    return coa\n",
    "\n",
    "FOLDER_NAME = 'generated-data-api'\n",
    "counter = 1\n",
    "for label in all_possible_permutations:\n",
    "    \n",
    "    payload = get_armoria_api_payload(label)\n",
    "    \n",
    "    api = ArmoriaAPIWrapper(size = 500,format=\"png\", coa=payload)\n",
    "    \n",
    "    image_full_path = FOLDER_NAME + '/' + 'image_' + str(counter) + '.png'\n",
    "    \n",
    "    api.save_image(image_full_path)\n",
    "    \n",
    "    print('Image \"{}\" for label \"{}\" has been generated succfully' .format(image_full_path, label) )\n",
    "    \n",
    "    counter = counter + 1\n"
   ]
  },
  {
   "cell_type": "code",
   "execution_count": null,
   "id": "dbdaef28",
   "metadata": {},
   "outputs": [],
   "source": []
  }
 ],
 "metadata": {
  "kernelspec": {
   "display_name": "Python 3",
   "language": "python",
   "name": "python3"
  },
  "language_info": {
   "codemirror_mode": {
    "name": "ipython",
    "version": 3
   },
   "file_extension": ".py",
   "mimetype": "text/x-python",
   "name": "python",
   "nbconvert_exporter": "python",
   "pygments_lexer": "ipython3",
   "version": "3.8.11"
  }
 },
 "nbformat": 4,
 "nbformat_minor": 5
}
