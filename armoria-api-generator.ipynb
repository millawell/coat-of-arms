{
 "cells": [
  {
   "cell_type": "markdown",
   "id": "af7eb01e",
   "metadata": {},
   "source": [
    "# Armoria API"
   ]
  },
  {
   "cell_type": "code",
   "execution_count": 8,
   "id": "b65096cb",
   "metadata": {},
   "outputs": [],
   "source": [
    "import requests\n",
    "import json\n",
    "from PIL import Image\n",
    "from io import BytesIO\n",
    "class ArmoriaAPIWrapper:\n",
    "    def __init__(self, size, format, coa):\n",
    "        payload = {\"size\": size, \n",
    "                   \"format\": format,\n",
    "                   \"coa\": json.dumps(coa)\n",
    "                  }\n",
    "        self.r = requests.get('https://armoria.herokuapp.com/', params=payload)\n",
    "        print(self.r.url)\n",
    "    \n",
    "    def get_image_bytes(self):\n",
    "        i = Image.open(BytesIO(self.r.content))\n",
    "        return i\n",
    "    \n",
    "    def show_image(self):\n",
    "        i = self.get_image_bytes()\n",
    "        i.show()\n",
    "\n"
   ]
  },
  {
   "cell_type": "code",
   "execution_count": 9,
   "id": "a07e7d6e",
   "metadata": {},
   "outputs": [
    {
     "name": "stdout",
     "output_type": "stream",
     "text": [
      "https://armoria.herokuapp.com/?size=500&format=png&coa=%7B%22t1%22%3A+%22or%22%2C+%22shield%22%3A+%22heater%22%2C+%22charges%22%3A+%5B%7B%22charge%22%3A+%22lionRampant%22%2C+%22t%22%3A+%22gules%22%2C+%22p%22%3A+%22e%22%2C+%22size%22%3A+1.5%7D%5D%7D\n",
      "https://armoria.herokuapp.com/?size=500&format=png&coa=%7B%22t1%22%3A+%22argent%22%2C+%22shield%22%3A+%22heater%22%2C+%22charges%22%3A+%5B%7B%22charge%22%3A+%22crossMoline%22%2C+%22t%22%3A+%22azure%22%2C+%22p%22%3A+%22e%22%2C+%22size%22%3A+1.5%7D%5D%7D\n",
      "https://armoria.herokuapp.com/?size=500&format=png&coa=%7B%22t1%22%3A+%22argent%22%2C+%22shield%22%3A+%22heater%22%2C+%22charges%22%3A+%5B%7B%22charge%22%3A+%22rose%22%2C+%22t%22%3A+%22gules%22%2C+%22p%22%3A+%22e%22%2C+%22size%22%3A+1.5%7D%5D%7D\n"
     ]
    }
   ],
   "source": [
    "coa_lion = {\"t1\":\"or\",\n",
    "       \"shield\":\"heater\",\n",
    "       \"charges\":[{\"charge\":\"lionRampant\",\n",
    "                   \"t\":\"gules\",\n",
    "                   \"p\":\"e\",\n",
    "                   \"size\":1.5}]\n",
    "      }\n",
    "\n",
    "api = ArmoriaAPIWrapper(size = 500,format=\"png\", coa=coa_lion)\n",
    "api.show_image()\n",
    "\n",
    "coa_cross = {\"t1\":\"argent\",\n",
    "       \"shield\":\"heater\",\n",
    "       \"charges\":[{\"charge\":\"crossMoline\",\n",
    "                   \"t\":\"azure\",\n",
    "                   \"p\":\"e\",\n",
    "                   \"size\":1.5}]\n",
    "      }\n",
    "\n",
    "api = ArmoriaAPIWrapper(size = 500,format=\"png\", coa=coa_cross)\n",
    "api.show_image()\n",
    "\n",
    "\n",
    "coa_rose = {\"t1\":\"argent\",\n",
    "       \"shield\":\"heater\",\n",
    "       \"charges\":[{\"charge\":\"rose\",\n",
    "                   \"t\":\"gules\",\n",
    "                   \"p\":\"e\",\n",
    "                   \"size\":1.5}]\n",
    "      }\n",
    "\n",
    "api = ArmoriaAPIWrapper(size = 500,format=\"png\", coa=coa_rose)\n",
    "api.show_image()"
   ]
  },
  {
   "cell_type": "code",
   "execution_count": null,
   "id": "8ae09610",
   "metadata": {},
   "outputs": [],
   "source": []
  }
 ],
 "metadata": {
  "kernelspec": {
   "display_name": "Python 3",
   "language": "python",
   "name": "python3"
  },
  "language_info": {
   "codemirror_mode": {
    "name": "ipython",
    "version": 3
   },
   "file_extension": ".py",
   "mimetype": "text/x-python",
   "name": "python",
   "nbconvert_exporter": "python",
   "pygments_lexer": "ipython3",
   "version": "3.8.11"
  }
 },
 "nbformat": 4,
 "nbformat_minor": 5
}
